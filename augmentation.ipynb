{
  "cells": [
    {
      "cell_type": "code",
      "execution_count": 11,
      "id": "e25C4LuFj2YP",
      "metadata": {
        "colab": {
          "base_uri": "https://localhost:8080/"
        },
        "id": "e25C4LuFj2YP",
        "outputId": "54f19d44-ee8a-4929-8d40-7182733f90a4"
      },
      "outputs": [
        {
          "name": "stdout",
          "output_type": "stream",
          "text": [
            "Done\n"
          ]
        }
      ],
      "source": [
        "from zipfile import ZipFile\n",
        "file_name = 'content/preprocessed_train.zip'\n",
        "\n",
        "with ZipFile(file_name, 'r') as zip:\n",
        "  zip.extractall('content')\n",
        "  print('Done')"
      ]
    },
    {
      "cell_type": "code",
      "execution_count": 12,
      "id": "99fbff86",
      "metadata": {
        "id": "99fbff86"
      },
      "outputs": [],
      "source": [
        "import pandas as pd\n",
        "import numpy as np\n",
        "import cv2\n",
        "import os\n",
        "import random\n",
        "from tqdm import tqdm"
      ]
    },
    {
      "cell_type": "code",
      "execution_count": 13,
      "id": "318961e7",
      "metadata": {
        "id": "318961e7"
      },
      "outputs": [],
      "source": [
        "input_csv = \"content/rafdb/train_labels.csv\"\n",
        "input_dir = \"content/preprocessed_train\"\n",
        "output_dir = \"content/augmented\"\n",
        "output_csv = \"content/augmented_labels.csv\"\n",
        "\n",
        "# Tạo thư mục nếu chưa có\n",
        "os.makedirs(output_dir, exist_ok=True)"
      ]
    },
    {
      "cell_type": "code",
      "execution_count": 14,
      "id": "ed676b9d",
      "metadata": {
        "colab": {
          "base_uri": "https://localhost:8080/"
        },
        "id": "ed676b9d",
        "outputId": "53072340-e018-44a0-ac34-53cbc6938a55"
      },
      "outputs": [
        {
          "name": "stdout",
          "output_type": "stream",
          "text": [
            "              image_name  class\n",
            "0  train_00362_anger.jpg      3\n",
            "1  train_01580_anger.jpg      3\n",
            "2  train_03621_anger.jpg      3\n",
            "3  train_04216_anger.jpg      3\n",
            "4  train_06336_anger.jpg      3\n"
          ]
        }
      ],
      "source": [
        "df = pd.read_csv(input_csv)\n",
        "\n",
        "print(df.head())"
      ]
    },
    {
      "cell_type": "code",
      "execution_count": 15,
      "id": "8617a256",
      "metadata": {
        "colab": {
          "base_uri": "https://localhost:8080/"
        },
        "id": "8617a256",
        "outputId": "9472f0b3-08ed-407c-e147-83fbb873fc52"
      },
      "outputs": [
        {
          "name": "stdout",
          "output_type": "stream",
          "text": [
            "Is duplicated: False\n"
          ]
        }
      ],
      "source": [
        "print(\"Is duplicated:\", df.duplicated().any())"
      ]
    },
    {
      "cell_type": "code",
      "execution_count": 16,
      "id": "ca3112f0",
      "metadata": {
        "colab": {
          "base_uri": "https://localhost:8080/"
        },
        "id": "ca3112f0",
        "outputId": "82d880c7-5a1f-4bb5-f5ca-23d74a3421fa"
      },
      "outputs": [
        {
          "name": "stdout",
          "output_type": "stream",
          "text": [
            "Số lượng mẫu theo class:\n",
            " - Class 0: 3817 ảnh\n",
            " - Class 1: 1032 ảnh\n",
            " - Class 2: 1585 ảnh\n",
            " - Class 3: 564 ảnh\n",
            " - Class 4: 573 ảnh\n",
            " - Class 5: 224 ảnh\n",
            " - Class 6: 2019 ảnh\n"
          ]
        }
      ],
      "source": [
        "# Đếm số mẫu theo class\n",
        "class_counts = df['class'].value_counts().sort_index()\n",
        "max_count = class_counts.max()\n",
        "\n",
        "print(\"Số lượng mẫu theo class:\")\n",
        "for cls, count in class_counts.items():\n",
        "    print(f\" - Class {cls}: {count} ảnh\")"
      ]
    },
    {
      "cell_type": "code",
      "execution_count": 17,
      "id": "6cdb19f2",
      "metadata": {
        "colab": {
          "base_uri": "https://localhost:8080/"
        },
        "id": "6cdb19f2",
        "outputId": "4d538b0d-c5cf-4ab5-aa36-b8c42e136489"
      },
      "outputs": [
        {
          "name": "stdout",
          "output_type": "stream",
          "text": [
            "Số ảnh tăng cường trên mỗi ảnh gốc:\n",
            " - Class 0: x0\n",
            " - Class 1: x3\n",
            " - Class 2: x1\n",
            " - Class 3: x6\n",
            " - Class 4: x6\n",
            " - Class 5: x16\n",
            " - Class 6: x1\n"
          ]
        }
      ],
      "source": [
        "# Tính số augmentation mỗi ảnh cần cho từng class\n",
        "aug_multipliers = {\n",
        "    int(cls): max(round(max_count / count), 1) - 1\n",
        "    for cls, count in class_counts.items()\n",
        "}\n",
        "\n",
        "print(\"Số ảnh tăng cường trên mỗi ảnh gốc:\")\n",
        "for cls, mult in aug_multipliers.items():\n",
        "    print(f\" - Class {cls}: x{mult}\")"
      ]
    },
    {
      "cell_type": "code",
      "execution_count": 18,
      "id": "5e591e76",
      "metadata": {
        "id": "5e591e76"
      },
      "outputs": [],
      "source": [
        "# Tăng cường ảnh\n",
        "augmented_rows = []\n",
        "\n",
        "def apply_geometric_transform(image, mode=\"random\"):\n",
        "    h, w = image.shape[:2]\n",
        "    M = None\n",
        "\n",
        "    if mode == \"random\":\n",
        "        mode = random.choice([\"flip\", \"rotate\", \"affine\", \"perspective\", \"translate\"])\n",
        "\n",
        "    if mode == \"flip\":\n",
        "        flip_code = random.choice([-1, 0, 1])  # -1: cả hai, 0: dọc, 1: ngang\n",
        "        transformed = cv2.flip(image, flip_code)\n",
        "\n",
        "    elif mode == \"rotate\":\n",
        "        angle = random.uniform(-30, 30)\n",
        "        center = (w // 2, h // 2)\n",
        "        M = cv2.getRotationMatrix2D(center, angle, 1.0)\n",
        "\n",
        "    elif mode == \"affine\":\n",
        "        pts1 = np.float32([[0,0], [w-1,0], [0,h-1]])\n",
        "        pts2 = pts1 + np.random.randint(-15, 15, pts1.shape).astype(np.float32)\n",
        "        M = cv2.getAffineTransform(pts1, pts2)\n",
        "\n",
        "    elif mode == \"perspective\":\n",
        "        margin = 0.1\n",
        "        src = np.float32([\n",
        "            [w * margin, h * margin],\n",
        "            [w * (1 - margin), h * margin],\n",
        "            [w * margin, h * (1 - margin)],\n",
        "            [w * (1 - margin), h * (1 - margin)]\n",
        "        ])\n",
        "        dst = src + np.random.uniform(-w * 0.1, w * 0.1, src.shape).astype(np.float32)\n",
        "        M = cv2.getPerspectiveTransform(src, dst)\n",
        "\n",
        "    elif mode == \"translate\":\n",
        "        tx = int(random.uniform(-0.3 * w, 0.3 * w))\n",
        "        ty = int(random.uniform(-0.3 * h, 0.3 * h))\n",
        "        M = np.float32([[1, 0, tx], [0, 1, ty]])\n",
        "\n",
        "    else:\n",
        "        raise ValueError(f\"Unknown mode: {mode}\")\n",
        "\n",
        "    # borderMode: Cách xử lý phần biên khi pixel sau biến đổi nằm ngoài vùng ảnh gốc\n",
        "    # cv2.BORDER_CONSTANT: đệm bằng giá trị cố định (như màu đen).\n",
        "    # cv2.BORDER_REFLECT: phản chiếu biên (như gương).\n",
        "    # cv2.BORDER_REPLICATE: lặp lại pixel gần nhất.\n",
        "    # cv2.BORDER_WRAP: cuộn lại từ đầu (rất hiếm dùng).\n",
        "\n",
        "    # flags: Cách nội suy pixel mới\n",
        "    # cv2.INTER_LINEAR: nội suy tuyến tính (thường dùng cho ảnh).\n",
        "    # cv2.INTER_NEAREST: nội suy gần nhất (nhanh nhưng có thể mất chi tiết).\n",
        "    # cv2.INTER_CUBIC: nội suy bậc ba (chất lượng cao hơn, chậm hơn).\n",
        "    # cv2.INTER_LANCZOS4: nội suy Lanczos (chất lượng cao, chậm nhất).\n",
        "\n",
        "    # transformed = cv2.warpAffine(image, M, (w, h), flags=cv2.INTER_LINEAR, borderMode=cv2.BORDER_REFLECT)\n",
        "    # transformed_image = cv2.warpAffine(image, M, (w, h), borderMode=cv2.BORDER_CONSTANT, borderValue=(0, 0, 0))\n",
        "\n",
        "    if mode == \"flip\":\n",
        "        pass # Đã xử lý ở trên\n",
        "    elif mode == \"perspective\":\n",
        "        transformed = cv2.warpPerspective(image, M, (w, h), borderMode=cv2.BORDER_CONSTANT, borderValue=(0, 0, 0))\n",
        "    else:\n",
        "        transformed = cv2.warpAffine(image, M, (w, h), borderMode=cv2.BORDER_CONSTANT, borderValue=(0, 0, 0))\n",
        "\n",
        "    return transformed, mode\n"
      ]
    },
    {
      "cell_type": "code",
      "execution_count": 19,
      "id": "dd295cd5",
      "metadata": {
        "colab": {
          "base_uri": "https://localhost:8080/"
        },
        "id": "dd295cd5",
        "outputId": "6979cdb8-777f-4e70-e0fc-c818f3cadde8"
      },
      "outputs": [
        {
          "name": "stderr",
          "output_type": "stream",
          "text": [
            "100%|██████████| 9814/9814 [03:40<00:00, 44.41it/s]\n"
          ]
        },
        {
          "name": "stdout",
          "output_type": "stream",
          "text": [
            "Đã lưu augmented CSV: content/augmented_labels.csv\n"
          ]
        }
      ],
      "source": [
        "for idx, row in tqdm(df.iterrows(), total=len(df)):\n",
        "    img_name = row['image_name']\n",
        "    label = row['class']\n",
        "    multiplier = aug_multipliers[label]\n",
        "\n",
        "    img_path = os.path.join(input_dir, img_name)\n",
        "    image = cv2.imread(img_path)\n",
        "    if image is None:\n",
        "        print(f\"Không đọc được ảnh: {img_path}\")\n",
        "        continue\n",
        "\n",
        "    for i in range(multiplier):\n",
        "        aug_img, mode = apply_geometric_transform(image)\n",
        "        new_name = f\"{os.path.splitext(img_name)[0]}_aug{i}_{mode}.jpg\"\n",
        "        save_path = os.path.join(output_dir, new_name)\n",
        "        cv2.imwrite(save_path, aug_img)\n",
        "\n",
        "        augmented_rows.append({\n",
        "            'image_name': new_name,\n",
        "            'class': label\n",
        "        })\n",
        "\n",
        "# Gộp dữ liệu gốc + tăng cường\n",
        "df_aug = pd.DataFrame(augmented_rows)\n",
        "df_combined = pd.concat([df, df_aug], ignore_index=True)\n",
        "df_combined.to_csv(output_csv, index=False)\n",
        "print(f\"Đã lưu augmented CSV: {output_csv}\")"
      ]
    },
    {
      "cell_type": "markdown",
      "id": "qFMFn8npo8w0",
      "metadata": {
        "id": "qFMFn8npo8w0"
      },
      "source": [
        "### Kiểm tra dữ liệu sau khi tăng cường"
      ]
    },
    {
      "cell_type": "code",
      "execution_count": 20,
      "id": "9E6XB7RVl3vb",
      "metadata": {
        "colab": {
          "base_uri": "https://localhost:8080/"
        },
        "id": "9E6XB7RVl3vb",
        "outputId": "5fbfd875-2a71-4e79-bb19-5d5130059cc7"
      },
      "outputs": [
        {
          "name": "stdout",
          "output_type": "stream",
          "text": [
            "Số mẫu dữ liệu ban đầu là:  9814\n",
            "Số mẫu dữ liệu mới là:  26920\n"
          ]
        }
      ],
      "source": [
        "sub_df = pd.read_csv(\"content/augmented_labels.csv\")\n",
        "print('Số mẫu dữ liệu ban đầu là: ', len(df))\n",
        "print('Số mẫu dữ liệu mới là: ', len(sub_df))"
      ]
    },
    {
      "cell_type": "code",
      "execution_count": 21,
      "id": "-zpLd4nSmWqa",
      "metadata": {
        "colab": {
          "base_uri": "https://localhost:8080/"
        },
        "id": "-zpLd4nSmWqa",
        "outputId": "5a8be189-6f3c-4ae5-9c5e-57312a05c7c3"
      },
      "outputs": [
        {
          "name": "stdout",
          "output_type": "stream",
          "text": [
            "Số ảnh ban đầu là:  9814\n",
            "Số ảnh mới là:  17106\n"
          ]
        }
      ],
      "source": [
        "image_files_aug = [f for f in os.listdir(\"content/augmented\") if f.endswith('.jpg')]\n",
        "image_files = [f for f in os.listdir(\"content/preprocessed_train\") if f.endswith('.jpg')]\n",
        "\n",
        "print('Số ảnh ban đầu là: ', len(image_files))\n",
        "print('Số ảnh mới là: ', len(image_files_aug))"
      ]
    },
    {
      "cell_type": "code",
      "execution_count": 22,
      "id": "hvEfjddJm9hG",
      "metadata": {
        "colab": {
          "base_uri": "https://localhost:8080/",
          "height": 353
        },
        "id": "hvEfjddJm9hG",
        "outputId": "e7ac0ddc-9f8d-4f94-948e-9195a7119ad5"
      },
      "outputs": [
        {
          "name": "stdout",
          "output_type": "stream",
          "text": [
            "Số ảnh của mỗi class sau khi augmentation\n"
          ]
        },
        {
          "data": {
            "text/plain": [
              "class\n",
              "1    4128\n",
              "6    4038\n",
              "4    4011\n",
              "3    3948\n",
              "0    3817\n",
              "5    3808\n",
              "2    3170\n",
              "Name: count, dtype: int64"
            ]
          },
          "execution_count": 22,
          "metadata": {},
          "output_type": "execute_result"
        }
      ],
      "source": [
        "print('Số ảnh của mỗi class sau khi augmentation')\n",
        "sub_df.value_counts(sub_df['class'])"
      ]
    },
    {
      "cell_type": "code",
      "execution_count": 23,
      "id": "T1ahm-bLqATw",
      "metadata": {
        "colab": {
          "base_uri": "https://localhost:8080/"
        },
        "id": "T1ahm-bLqATw",
        "outputId": "ce593b9d-7433-4001-e9f8-d4fb8d38097d"
      },
      "outputs": [
        {
          "name": "stderr",
          "output_type": "stream",
          "text": [
            "'zip' is not recognized as an internal or external command,\n",
            "operable program or batch file.\n"
          ]
        }
      ],
      "source": [
        "!zip -r \"content/augmented.zip\" \"content/augmented\""
      ]
    }
  ],
  "metadata": {
    "colab": {
      "provenance": []
    },
    "kernelspec": {
      "display_name": "pyenv",
      "language": "python",
      "name": "python3"
    },
    "language_info": {
      "codemirror_mode": {
        "name": "ipython",
        "version": 3
      },
      "file_extension": ".py",
      "mimetype": "text/x-python",
      "name": "python",
      "nbconvert_exporter": "python",
      "pygments_lexer": "ipython3",
      "version": "3.11.13"
    }
  },
  "nbformat": 4,
  "nbformat_minor": 5
}
