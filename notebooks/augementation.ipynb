{
 "cells": [
  {
   "cell_type": "markdown",
   "id": "2a21ba70",
   "metadata": {},
   "source": [
    "# So sánh tập dữ liệu gốc và sau khi tăng cường"
   ]
  },
  {
   "cell_type": "code",
   "execution_count": null,
   "id": "86899d96",
   "metadata": {
    "vscode": {
     "languageId": "plaintext"
    }
   },
   "outputs": [],
   "source": [
    "import pandas as pd\n",
    "import matplotlib.pyplot as plt\n",
    "\n",
    "# Đường dẫn dữ liệu\n",
    "paths = {\n",
    "    \"rafdb\": \"../data/rafdb\",\n",
    "    \"augemented_rafdb\": \"../data/augemented_rafdb\",\n",
    "}\n",
    "\n",
    "# Tên cảm xúc\n",
    "emotion_names = {\n",
    "    0: \"happy\",\n",
    "    1: \"surprise\",\n",
    "    2: \"sad\",\n",
    "    3: \"anger\",\n",
    "    4: \"disgust\",\n",
    "    5: \"fear\",\n",
    "    6: \"neutral\"\n",
    "}\n",
    "\n",
    "# Hàm lấy số lượng nhãn từ file csv\n",
    "def get_label_counts(csv_path):\n",
    "    df = pd.read_csv(csv_path)\n",
    "    label_counts = df['class'].value_counts().sort_index()\n",
    "    return [label_counts.get(i, 0) for i in range(len(emotion_names))]\n",
    "\n",
    "# Đọc dữ liệu\n",
    "df_all = pd.DataFrame({\n",
    "    \"rafdb_train\": get_label_counts(f\"{paths['rafdb']}/train_labels.csv\"),\n",
    "    \"augmented_train\": get_label_counts(f\"{paths['augemented_rafdb']}/train_labels.csv\"),\n",
    "    \"val\": get_label_counts(f\"{paths['rafdb']}/val_labels.csv\"),\n",
    "    \"test\": get_label_counts(f\"{paths['rafdb']}/test_labels.csv\"),\n",
    "}, index=[emotion_names[i] for i in range(7)])\n",
    "\n",
    "# Hiển thị bảng\n",
    "print(\"📊 Số lượng nhãn trong các tập (train/val/test):\")\n",
    "display(df_all)\n",
    "\n",
    "# Vẽ biểu đồ\n",
    "df_all.plot(kind='bar', figsize=(12, 6), title=\"Số lượng nhãn trong các tập dữ liệu\", ylabel=\"Số lượng mẫu\")\n",
    "plt.xticks(rotation=45)\n",
    "plt.grid(axis='y')\n",
    "plt.tight_layout()\n",
    "plt.show()\n"
   ]
  }
 ],
 "metadata": {
  "language_info": {
   "name": "python"
  }
 },
 "nbformat": 4,
 "nbformat_minor": 5
}
